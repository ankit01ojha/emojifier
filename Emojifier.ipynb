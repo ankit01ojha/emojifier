{
 "cells": [
  {
   "cell_type": "code",
   "execution_count": 1,
   "metadata": {},
   "outputs": [
    {
     "name": "stderr",
     "output_type": "stream",
     "text": [
      "Using TensorFlow backend.\n"
     ]
    }
   ],
   "source": [
    "import numpy as np\n",
    "import tensorflow as tf\n",
    "from keras.models import Model\n",
    "from keras.layers import Dropout,LSTM, Dense, Input, Activation\n",
    "from keras.layers.embeddings import Embedding\n",
    "from keras.preprocessing import sequence\n",
    "from keras.initializers import glorot_uniform\n",
    "from emo_utils import * \n",
    "import emoji"
   ]
  },
  {
   "cell_type": "code",
   "execution_count": 2,
   "metadata": {},
   "outputs": [],
   "source": [
    "x_train, y_train = read_csv('train_emoji.csv')\n",
    "x_test, y_test = read_csv('tesss.csv')"
   ]
  },
  {
   "cell_type": "code",
   "execution_count": 3,
   "metadata": {},
   "outputs": [],
   "source": [
    "maxLen = len(max(x_train, key=len).split())"
   ]
  },
  {
   "cell_type": "code",
   "execution_count": 4,
   "metadata": {},
   "outputs": [
    {
     "name": "stdout",
     "output_type": "stream",
     "text": [
      "I am proud of your achievements 😄\n"
     ]
    }
   ],
   "source": [
    "index=1\n",
    "print(x_train[index], label_to_emoji(y_train[index]))"
   ]
  },
  {
   "cell_type": "code",
   "execution_count": 5,
   "metadata": {},
   "outputs": [],
   "source": [
    "y_oh_train = convert_to_one_hot(y_train,C=5)"
   ]
  },
  {
   "cell_type": "code",
   "execution_count": 6,
   "metadata": {},
   "outputs": [],
   "source": [
    "def read_glove_vecs(glove_file):\n",
    "    with open(glove_file, encoding=\"utf8\" ) as f:\n",
    "        words = set()\n",
    "        word_to_vec_map = {}\n",
    "        for line in f:\n",
    "            line = line.strip().split()\n",
    "            curr_word = line[0]\n",
    "            words.add(curr_word)\n",
    "            word_to_vec_map[curr_word] = np.array(line[1:], dtype=np.float64)\n",
    "        \n",
    "        i = 1\n",
    "        words_to_index = {}\n",
    "        index_to_words = {}\n",
    "        for w in sorted(words):\n",
    "            words_to_index[w] = i\n",
    "            index_to_words[i] = w\n",
    "            i = i + 1\n",
    "    return words_to_index, index_to_words, word_to_vec_map\n",
    "     \n",
    "     \n"
   ]
  },
  {
   "cell_type": "code",
   "execution_count": 7,
   "metadata": {},
   "outputs": [],
   "source": [
    "word_to_index, index_to_word, word_to_vec_map = read_glove_vecs('glove.6B.50d.txt')"
   ]
  },
  {
   "cell_type": "code",
   "execution_count": 18,
   "metadata": {},
   "outputs": [],
   "source": [
    "def sentence_to_indices(x, word_to_index, max_len):\n",
    "    m = x.shape[0]\n",
    "    x_indices = np.zeros((m,max_len))\n",
    "    for i in range(m):\n",
    "        sentence_words = [w.lower() for w in x[i].split()]\n",
    "        j=0\n",
    "        for w in sentence_words:\n",
    "            x_indices[i,j] = word_to_index[w]\n",
    "            j=j+1\n",
    "    \n",
    "    return x_indices"
   ]
  },
  {
   "cell_type": "code",
   "execution_count": 9,
   "metadata": {},
   "outputs": [],
   "source": [
    "def pretrained_embedding_layer(word_to_vec, word_to_index):\n",
    "    vocab_len = len(word_to_index)+1\n",
    "    emb_dim = word_to_vec_map[\"boy\"].shape[0]\n",
    "    emb_matrix = np.zeros((vocab_len, emb_dim))\n",
    "    for word, index in word_to_index.items():\n",
    "        emb_matrix[index, :] = word_to_vec_map[word]\n",
    "    \n",
    "    embedding_layer = Embedding(vocab_len, emb_dim, trainable=False)\n",
    "    embedding_layer.build((None,))\n",
    "    embedding_layer.set_weights([emb_matrix])\n",
    "    \n",
    "    return embedding_layer\n",
    "        "
   ]
  },
  {
   "cell_type": "code",
   "execution_count": 10,
   "metadata": {},
   "outputs": [],
   "source": [
    "def Emojify(input_shape, word_to_vec_map, word_to_index):\n",
    "    sentence_indices = Input(input_shape,dtype='int32')\n",
    "    embedding_layer = pretrained_embedding_layer(word_to_vec_map, word_to_index)\n",
    "    embedding = embedding_layer(sentence_indices)\n",
    "    X = LSTM(128, return_sequences=True)(embedding)\n",
    "    X = Dropout(0.5)(X)\n",
    "    X = LSTM(128, return_sequences=False)(embedding)\n",
    "    X = Dropout(0.5)(X)\n",
    "    X = Dense(5)(X)\n",
    "    X = Activation('softmax')(X)\n",
    "    model = Model(inputs = sentence_indices, outputs=X)\n",
    "    return model\n",
    "    \n",
    "    "
   ]
  },
  {
   "cell_type": "code",
   "execution_count": 11,
   "metadata": {},
   "outputs": [],
   "source": [
    "model = Emojify((maxLen,), word_to_vec_map, word_to_index)"
   ]
  },
  {
   "cell_type": "markdown",
   "metadata": {},
   "source": [
    "model.summary()"
   ]
  },
  {
   "cell_type": "code",
   "execution_count": 12,
   "metadata": {},
   "outputs": [
    {
     "name": "stdout",
     "output_type": "stream",
     "text": [
      "_________________________________________________________________\n",
      "Layer (type)                 Output Shape              Param #   \n",
      "=================================================================\n",
      "input_1 (InputLayer)         (None, 10)                0         \n",
      "_________________________________________________________________\n",
      "embedding_1 (Embedding)      (None, 10, 50)            20000050  \n",
      "_________________________________________________________________\n",
      "lstm_2 (LSTM)                (None, 128)               91648     \n",
      "_________________________________________________________________\n",
      "dropout_2 (Dropout)          (None, 128)               0         \n",
      "_________________________________________________________________\n",
      "dense_1 (Dense)              (None, 5)                 645       \n",
      "_________________________________________________________________\n",
      "activation_1 (Activation)    (None, 5)                 0         \n",
      "=================================================================\n",
      "Total params: 20,092,343\n",
      "Trainable params: 92,293\n",
      "Non-trainable params: 20,000,050\n",
      "_________________________________________________________________\n"
     ]
    }
   ],
   "source": [
    "model.summary()"
   ]
  },
  {
   "cell_type": "code",
   "execution_count": 13,
   "metadata": {},
   "outputs": [],
   "source": [
    "model.compile(loss='categorical_crossentropy', optimizer='adam', metrics=['accuracy'])"
   ]
  },
  {
   "cell_type": "code",
   "execution_count": 14,
   "metadata": {},
   "outputs": [],
   "source": [
    "x_train_indices = sentence_to_indices(x_train, word_to_index, maxLen)"
   ]
  },
  {
   "cell_type": "code",
   "execution_count": 15,
   "metadata": {},
   "outputs": [],
   "source": [
    "y_train_oh = convert_to_one_hot(y_train, C=5)"
   ]
  },
  {
   "cell_type": "code",
   "execution_count": 16,
   "metadata": {},
   "outputs": [
    {
     "name": "stdout",
     "output_type": "stream",
     "text": [
      "Epoch 1/50\n",
      "132/132 [==============================] - 4s 29ms/step - loss: 1.6013 - acc: 0.2273\n",
      "Epoch 2/50\n",
      "132/132 [==============================] - 0s 3ms/step - loss: 1.5622 - acc: 0.2727\n",
      "Epoch 3/50\n",
      "132/132 [==============================] - 0s 3ms/step - loss: 1.5173 - acc: 0.2879\n",
      "Epoch 4/50\n",
      "132/132 [==============================] - 0s 3ms/step - loss: 1.4889 - acc: 0.3409\n",
      "Epoch 5/50\n",
      "132/132 [==============================] - 0s 3ms/step - loss: 1.4482 - acc: 0.4015\n",
      "Epoch 6/50\n",
      "132/132 [==============================] - 0s 3ms/step - loss: 1.3907 - acc: 0.4015\n",
      "Epoch 7/50\n",
      "132/132 [==============================] - 0s 3ms/step - loss: 1.2858 - acc: 0.5682\n",
      "Epoch 8/50\n",
      "132/132 [==============================] - 0s 3ms/step - loss: 1.1996 - acc: 0.6212\n",
      "Epoch 9/50\n",
      "132/132 [==============================] - 0s 3ms/step - loss: 1.1503 - acc: 0.5227\n",
      "Epoch 10/50\n",
      "132/132 [==============================] - 0s 3ms/step - loss: 0.9939 - acc: 0.6742\n",
      "Epoch 11/50\n",
      "132/132 [==============================] - 0s 3ms/step - loss: 0.9302 - acc: 0.6742\n",
      "Epoch 12/50\n",
      "132/132 [==============================] - 0s 3ms/step - loss: 0.8400 - acc: 0.6667\n",
      "Epoch 13/50\n",
      "132/132 [==============================] - 0s 3ms/step - loss: 0.8260 - acc: 0.6742\n",
      "Epoch 14/50\n",
      "132/132 [==============================] - 0s 3ms/step - loss: 0.7355 - acc: 0.7348\n",
      "Epoch 15/50\n",
      "132/132 [==============================] - 0s 3ms/step - loss: 0.6150 - acc: 0.8106\n",
      "Epoch 16/50\n",
      "132/132 [==============================] - 0s 3ms/step - loss: 0.5950 - acc: 0.7576\n",
      "Epoch 17/50\n",
      "132/132 [==============================] - 0s 3ms/step - loss: 0.4761 - acc: 0.8333\n",
      "Epoch 18/50\n",
      "132/132 [==============================] - 0s 3ms/step - loss: 0.4119 - acc: 0.8636\n",
      "Epoch 19/50\n",
      "132/132 [==============================] - 0s 3ms/step - loss: 0.4316 - acc: 0.8409\n",
      "Epoch 20/50\n",
      "132/132 [==============================] - 0s 3ms/step - loss: 0.3314 - acc: 0.8788\n",
      "Epoch 21/50\n",
      "132/132 [==============================] - 0s 3ms/step - loss: 0.2888 - acc: 0.9015\n",
      "Epoch 22/50\n",
      "132/132 [==============================] - 0s 3ms/step - loss: 0.6157 - acc: 0.7955\n",
      "Epoch 23/50\n",
      "132/132 [==============================] - 0s 3ms/step - loss: 0.3273 - acc: 0.8939\n",
      "Epoch 24/50\n",
      "132/132 [==============================] - 0s 3ms/step - loss: 0.3483 - acc: 0.8636\n",
      "Epoch 25/50\n",
      "132/132 [==============================] - 0s 3ms/step - loss: 0.4269 - acc: 0.8409\n",
      "Epoch 26/50\n",
      "132/132 [==============================] - 0s 3ms/step - loss: 0.3044 - acc: 0.8712\n",
      "Epoch 27/50\n",
      "132/132 [==============================] - 0s 3ms/step - loss: 0.3923 - acc: 0.8333\n",
      "Epoch 28/50\n",
      "132/132 [==============================] - 0s 3ms/step - loss: 0.2821 - acc: 0.9091\n",
      "Epoch 29/50\n",
      "132/132 [==============================] - 0s 3ms/step - loss: 0.2931 - acc: 0.9167\n",
      "Epoch 30/50\n",
      "132/132 [==============================] - 0s 3ms/step - loss: 0.2423 - acc: 0.9394\n",
      "Epoch 31/50\n",
      "132/132 [==============================] - 0s 3ms/step - loss: 0.2107 - acc: 0.9394\n",
      "Epoch 32/50\n",
      "132/132 [==============================] - 0s 3ms/step - loss: 0.2016 - acc: 0.9394\n",
      "Epoch 33/50\n",
      "132/132 [==============================] - 0s 3ms/step - loss: 0.1643 - acc: 0.9470\n",
      "Epoch 34/50\n",
      "132/132 [==============================] - 0s 3ms/step - loss: 0.1516 - acc: 0.9621\n",
      "Epoch 35/50\n",
      "132/132 [==============================] - 0s 3ms/step - loss: 0.0974 - acc: 0.9697\n",
      "Epoch 36/50\n",
      "132/132 [==============================] - 0s 3ms/step - loss: 0.0980 - acc: 0.9621\n",
      "Epoch 37/50\n",
      "132/132 [==============================] - 0s 3ms/step - loss: 0.0671 - acc: 0.9848\n",
      "Epoch 38/50\n",
      "132/132 [==============================] - 0s 3ms/step - loss: 0.0739 - acc: 0.9773\n",
      "Epoch 39/50\n",
      "132/132 [==============================] - 0s 3ms/step - loss: 0.0589 - acc: 0.9848\n",
      "Epoch 40/50\n",
      "132/132 [==============================] - 0s 3ms/step - loss: 0.0585 - acc: 0.9848\n",
      "Epoch 41/50\n",
      "132/132 [==============================] - 0s 3ms/step - loss: 0.0851 - acc: 0.9697\n",
      "Epoch 42/50\n",
      "132/132 [==============================] - 0s 3ms/step - loss: 0.0686 - acc: 0.9697\n",
      "Epoch 43/50\n",
      "132/132 [==============================] - 0s 3ms/step - loss: 0.0536 - acc: 0.9848\n",
      "Epoch 44/50\n",
      "132/132 [==============================] - 0s 3ms/step - loss: 0.0706 - acc: 0.9621\n",
      "Epoch 45/50\n",
      "132/132 [==============================] - 0s 3ms/step - loss: 0.0825 - acc: 0.9773\n",
      "Epoch 46/50\n",
      "132/132 [==============================] - 0s 3ms/step - loss: 0.0782 - acc: 0.9697\n",
      "Epoch 47/50\n",
      "132/132 [==============================] - 0s 3ms/step - loss: 0.1255 - acc: 0.9773\n",
      "Epoch 48/50\n",
      "132/132 [==============================] - 0s 3ms/step - loss: 0.0384 - acc: 0.9924\n",
      "Epoch 49/50\n",
      "132/132 [==============================] - 0s 3ms/step - loss: 0.1091 - acc: 0.9697\n",
      "Epoch 50/50\n",
      "132/132 [==============================] - 0s 3ms/step - loss: 0.0612 - acc: 0.9773\n"
     ]
    },
    {
     "data": {
      "text/plain": [
       "<keras.callbacks.History at 0x181c2acbfd0>"
      ]
     },
     "execution_count": 16,
     "metadata": {},
     "output_type": "execute_result"
    }
   ],
   "source": [
    "model.fit(x_train_indices,y_train_oh, epochs=50, batch_size=32, shuffle=True)"
   ]
  },
  {
   "cell_type": "code",
   "execution_count": 20,
   "metadata": {},
   "outputs": [
    {
     "name": "stdout",
     "output_type": "stream",
     "text": [
      "56/56 [==============================] - 0s 2ms/step\n",
      "\n",
      "Test accuracy =  0.8571428571428571\n"
     ]
    }
   ],
   "source": [
    "x_test_indices = sentence_to_indices(x_test, word_to_index, max_len = maxLen)\n",
    "y_test_oh = convert_to_one_hot(y_test, C = 5)\n",
    "loss, acc = model.evaluate(x_test_indices, y_test_oh)\n",
    "print()\n",
    "print(\"Test accuracy = \", acc)"
   ]
  },
  {
   "cell_type": "code",
   "execution_count": 25,
   "metadata": {},
   "outputs": [
    {
     "name": "stdout",
     "output_type": "stream",
     "text": [
      "Lets have lunch together 🍴\n"
     ]
    }
   ],
   "source": [
    "x_test = np.array(['Lets have lunch together'])\n",
    "X_test_indices = sentence_to_indices(x_test, word_to_index, maxLen)\n",
    "print(x_test[0] +' '+  label_to_emoji(np.argmax(model.predict(X_test_indices))))"
   ]
  },
  {
   "cell_type": "code",
   "execution_count": 1,
   "metadata": {},
   "outputs": [],
   "source": [
    "import emoji"
   ]
  },
  {
   "cell_type": "code",
   "execution_count": 3,
   "metadata": {},
   "outputs": [
    {
     "data": {
      "text/plain": [
       "':smile:'"
      ]
     },
     "execution_count": 3,
     "metadata": {},
     "output_type": "execute_result"
    }
   ],
   "source": [
    "emoji.emojize(':smile:')"
   ]
  },
  {
   "cell_type": "code",
   "execution_count": null,
   "metadata": {},
   "outputs": [],
   "source": []
  }
 ],
 "metadata": {
  "kernelspec": {
   "display_name": "Python 3",
   "language": "python",
   "name": "python3"
  },
  "language_info": {
   "codemirror_mode": {
    "name": "ipython",
    "version": 3
   },
   "file_extension": ".py",
   "mimetype": "text/x-python",
   "name": "python",
   "nbconvert_exporter": "python",
   "pygments_lexer": "ipython3",
   "version": "3.6.8"
  }
 },
 "nbformat": 4,
 "nbformat_minor": 2
}
